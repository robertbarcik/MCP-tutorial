{
 "cells": [
  {
   "cell_type": "markdown",
   "metadata": {},
   "source": [
    "# MCP Tutorial - Jupyter Notebook Demo\n",
    "\n",
    "This notebook demonstrates how to use the MCP servers with **direct function calls** in Jupyter/Colab.\n",
    "\n",
    "⚠️ **Note:** The MCP orchestrator with subprocesses does NOT work in Jupyter/Colab. For OpenAI gpt-5-nano integration, use `interactive_client.py` in regular Python.\n",
    "\n",
    "## Setup\n",
    "\n",
    "First, make sure you've installed the requirements:"
   ]
  },
  {
   "cell_type": "code",
   "execution_count": null,
   "metadata": {},
   "outputs": [],
   "source": [
    "# Install requirements (only need to run once)\n",
    "!pip install -q -r requirements.txt"
   ]
  },
  {
   "cell_type": "markdown",
   "metadata": {},
   "source": [
    "## Direct Function Calls\n",
    "\n",
    "All server functions can be imported and called directly as regular Python functions.\n",
    "This is the recommended way to use MCP servers in Jupyter/Colab notebooks.\n",
    "\n",
    "In this section, we'll explore how each server's functions work, including:\n",
    "- **Successful queries** - When data exists in the knowledge base\n",
    "- **Error responses** - What hints the LLM receives when data is not found\n",
    "\n",
    "These error responses contain valuable guidance that helps gpt-5-nano recover from failures and choose alternative approaches."
   ]
  },
  {
   "cell_type": "markdown",
   "metadata": {},
   "source": [
    "### Ticket Server Functions\n",
    "\n",
    "The ticket server manages support tickets with search, detail lookup, metrics, and similarity functions.\n",
    "Let's see both successful queries and error handling."
   ]
  },
  {
   "cell_type": "code",
   "execution_count": null,
   "metadata": {},
   "outputs": [],
   "source": [
    "# Import ticket server functions\n",
    "# For Google Colab: files are uploaded to root directory (no 'servers' folder)\n",
    "from ticket_server import search_tickets, get_ticket_details, get_ticket_metrics, find_similar_tickets_to, TICKETS\n",
    "\n",
    "# Example 1: Search for critical priority tickets (SUCCESS)\n",
    "print(\"=\" * 60)\n",
    "print(\"Example 1: Searching for critical tickets\")\n",
    "print(\"=\" * 60)\n",
    "critical_tickets = search_tickets(priority=\"critical\")\n",
    "print(f\"Found {critical_tickets['total_count']} critical tickets:\\n\")\n",
    "for ticket in critical_tickets['tickets']:\n",
    "    print(f\"  {ticket['ticket_id']}: {ticket['subject']}\")"
   ]
  },
  {
   "cell_type": "code",
   "execution_count": null,
   "metadata": {},
   "outputs": [],
   "source": [
    "# Example 2: Get details of an existing ticket (SUCCESS)\n",
    "print(\"\\n\" + \"=\" * 60)\n",
    "print(\"Example 2: Getting details for existing ticket TKT-1001\")\n",
    "print(\"=\" * 60)\n",
    "ticket = get_ticket_details(\"TKT-1001\")\n",
    "print(f\"Ticket: {ticket['ticket_id']}\")\n",
    "print(f\"Subject: {ticket['subject']}\")\n",
    "print(f\"Status: {ticket['status']}\")\n",
    "print(f\"Priority: {ticket['priority']}\")\n",
    "print(f\"Description: {ticket['description'][:100]}...\")\n",
    "\n",
    "# Example 3: Try to get a non-existent ticket (ERROR WITH HINTS)\n",
    "print(\"\\n\" + \"=\" * 60)\n",
    "print(\"Example 3: Attempting to get non-existent ticket TKT-9999\")\n",
    "print(\"=\" * 60)\n",
    "error_response = get_ticket_details(\"TKT-9999\")\n",
    "print(\"This ticket doesn't exist. Here's the error response with LLM hints:\\n\")\n",
    "import json\n",
    "print(json.dumps(error_response, indent=2))\n",
    "print(\"\\n💡 Notice the 'suggested_actions' and 'follow_up_tools' that guide the LLM!\")"
   ]
  },
  {
   "cell_type": "code",
   "execution_count": null,
   "metadata": {},
   "outputs": [],
   "source": [
    "# Example 4: Get ticket metrics (SUCCESS)\n",
    "print(\"\\n\" + \"=\" * 60)\n",
    "print(\"Example 4: Getting ticket metrics for last 7 days\")\n",
    "print(\"=\" * 60)\n",
    "metrics = get_ticket_metrics(\"last_7_days\")\n",
    "print(f\"Ticket Metrics (Last 7 Days):\")\n",
    "print(f\"  Total: {metrics['total_tickets']}\")\n",
    "print(f\"  Open: {metrics['open_tickets']}\")\n",
    "print(f\"  In Progress: {metrics['in_progress_tickets']}\")\n",
    "print(f\"  Resolved: {metrics['resolved_tickets']}\")\n",
    "print(f\"  Avg Resolution Time: {metrics['avg_resolution_time_hours']} hours\")"
   ]
  },
  {
   "cell_type": "markdown",
   "metadata": {},
   "source": [
    "### Customer Server Functions\n",
    "\n",
    "The customer server provides customer information, SLA terms, status checks, and contact lists.\n",
    "Watch how error responses provide helpful recovery suggestions."
   ]
  },
  {
   "cell_type": "code",
   "execution_count": null,
   "metadata": {},
   "outputs": [],
   "source": [
    "# Import customer server functions\n",
    "# For Google Colab: files are uploaded to root directory (no 'servers' folder)\n",
    "from customer_server import lookup_customer, check_customer_status, get_sla_terms, list_customer_contacts\n",
    "\n",
    "# Example 1: Look up an existing customer (SUCCESS)\n",
    "print(\"=\" * 60)\n",
    "print(\"Example 1: Looking up existing customer CUST-001\")\n",
    "print(\"=\" * 60)\n",
    "customer = lookup_customer(customer_id=\"CUST-001\")\n",
    "print(f\"Customer: {customer['company_name']}\")\n",
    "print(f\"Tier: {customer['tier']}\")\n",
    "print(f\"Status: {customer['status']}\")\n",
    "print(f\"Account Manager: {customer['account_manager']}\")\n",
    "\n",
    "# Example 2: Try to look up non-existent customer (ERROR WITH HINTS)\n",
    "print(\"\\n\" + \"=\" * 60)\n",
    "print(\"Example 2: Attempting to look up non-existent customer CUST-999\")\n",
    "print(\"=\" * 60)\n",
    "error_response = lookup_customer(customer_id=\"CUST-999\")\n",
    "print(\"This customer doesn't exist. Here's the error response:\\n\")\n",
    "import json\n",
    "print(json.dumps(error_response, indent=2))\n",
    "print(\"\\n💡 The LLM can use these hints to try a different approach!\")"
   ]
  },
  {
   "cell_type": "code",
   "execution_count": null,
   "metadata": {},
   "outputs": [],
   "source": [
    "# Example 3: Get SLA terms for existing customer (SUCCESS)\n",
    "print(\"\\n\" + \"=\" * 60)\n",
    "print(\"Example 3: Getting SLA terms for CUST-001\")\n",
    "print(\"=\" * 60)\n",
    "sla = get_sla_terms(\"CUST-001\")\n",
    "print(f\"SLA for {sla['company_name']}:\")\n",
    "print(f\"  Level: {sla['sla_terms']['level']}\")\n",
    "print(f\"  Response Time: {sla['sla_terms']['response_time_hours']} hours\")\n",
    "print(f\"  Resolution Time: {sla['sla_terms']['resolution_time_hours']} hours\")\n",
    "print(f\"  Support Hours: {sla['sla_terms']['support_hours']}\")"
   ]
  },
  {
   "cell_type": "markdown",
   "metadata": {},
   "source": [
    "### Billing Server Functions\n",
    "\n",
    "The billing server manages invoices, payment status, billing history, and outstanding balances.\n",
    "Errors include suggestions for alternative queries."
   ]
  },
  {
   "cell_type": "code",
   "execution_count": null,
   "metadata": {},
   "outputs": [],
   "source": [
    "# Import billing server functions\n",
    "# For Google Colab: files are uploaded to root directory (no 'servers' folder)\n",
    "from billing_server import get_invoice, check_payment_status, calculate_outstanding_balance\n",
    "\n",
    "# Example 1: Get invoices for an existing customer (SUCCESS)\n",
    "print(\"=\" * 60)\n",
    "print(\"Example 1: Getting invoices for customer CUST-001\")\n",
    "print(\"=\" * 60)\n",
    "invoices = get_invoice(customer_id=\"CUST-001\")\n",
    "print(f\"Total invoices for customer: {invoices['total_invoices']}\\n\")\n",
    "for inv in invoices['invoices'][:3]:  # Show first 3\n",
    "    print(f\"  {inv['invoice_id']}: ${inv['amount']} - {inv['status']}\")\n",
    "\n",
    "# Example 2: Try to get invoice with invalid ID (ERROR WITH HINTS)\n",
    "print(\"\\n\" + \"=\" * 60)\n",
    "print(\"Example 2: Attempting to get invoice INV-9999 (doesn't exist)\")\n",
    "print(\"=\" * 60)\n",
    "error_response = get_invoice(invoice_id=\"INV-9999\")\n",
    "print(\"This invoice doesn't exist. Here's the error response:\\n\")\n",
    "import json\n",
    "print(json.dumps(error_response, indent=2))\n",
    "print(\"\\n💡 Notice how the error suggests using customer_id instead!\")"
   ]
  },
  {
   "cell_type": "code",
   "execution_count": null,
   "metadata": {},
   "outputs": [],
   "source": [
    "# Example 3: Calculate outstanding balance (SUCCESS)\n",
    "print(\"\\n\" + \"=\" * 60)\n",
    "print(\"Example 3: Calculating outstanding balance for CUST-002\")\n",
    "print(\"=\" * 60)\n",
    "balance = calculate_outstanding_balance(\"CUST-002\")\n",
    "print(f\"Outstanding Balance for Customer:\")\n",
    "print(f\"  Total: ${balance['outstanding_balance']}\")\n",
    "print(f\"  Overdue: ${balance['overdue_amount']}\")\n",
    "print(f\"  Unpaid Invoices: {balance['number_of_unpaid_invoices']}\")"
   ]
  },
  {
   "cell_type": "markdown",
   "metadata": {},
   "source": [
    "### Knowledge Base Server Functions\n",
    "\n",
    "The KB server provides article search, retrieval, related articles, and common fixes.\n",
    "Error responses guide the LLM toward successful searches."
   ]
  },
  {
   "cell_type": "code",
   "execution_count": null,
   "metadata": {},
   "outputs": [],
   "source": [
    "# Import knowledge base server functions\n",
    "# For Google Colab: files are uploaded to root directory (no 'servers' folder)\n",
    "from kb_server import search_solutions, get_article\n",
    "\n",
    "# Example 1: Search for BSOD articles (SUCCESS)\n",
    "print(\"=\" * 60)\n",
    "print(\"Example 1: Searching for articles about BSOD\")\n",
    "print(\"=\" * 60)\n",
    "results = search_solutions(\"BSOD\", limit=3)\n",
    "print(f\"Found {results['total_count']} articles about BSOD:\\n\")\n",
    "for article in results['results']:\n",
    "    print(f\"  {article['article_id']}: {article['title']}\")\n",
    "    print(f\"    Relevance: {article['relevance_score']}, Views: {article['views']}\")\n",
    "\n",
    "# Example 2: Search with no results (EMPTY RESULT - NOT AN ERROR)\n",
    "print(\"\\n\" + \"=\" * 60)\n",
    "print(\"Example 2: Searching for articles about 'xyz123nonexistent'\")\n",
    "print(\"=\" * 60)\n",
    "no_results = search_solutions(\"xyz123nonexistent\", limit=3)\n",
    "print(f\"Found {no_results['total_count']} articles.\")\n",
    "print(\"Note: No error - just empty results. LLM can try different search terms.\")"
   ]
  },
  {
   "cell_type": "code",
   "execution_count": null,
   "metadata": {},
   "outputs": [],
   "source": [
    "# Example 3: Get an existing article (SUCCESS)\n",
    "print(\"\\n\" + \"=\" * 60)\n",
    "print(\"Example 3: Getting full article KB-001\")\n",
    "print(\"=\" * 60)\n",
    "article = get_article(\"KB-001\")\n",
    "print(f\"Article: {article['title']}\")\n",
    "print(f\"Category: {article['category']}\")\n",
    "print(f\"\\nContent Preview:\")\n",
    "print(article['content'][:200] + \"...\")\n",
    "\n",
    "# Example 4: Try to get non-existent article (ERROR WITH HINTS)\n",
    "print(\"\\n\" + \"=\" * 60)\n",
    "print(\"Example 4: Attempting to get non-existent article KB-999\")\n",
    "print(\"=\" * 60)\n",
    "error_response = get_article(\"KB-999\")\n",
    "print(\"This article doesn't exist. Here's the error response:\\n\")\n",
    "import json\n",
    "print(json.dumps(error_response, indent=2))\n",
    "print(\"\\n💡 The error suggests using search_solutions to find relevant articles!\")"
   ]
  },
  {
   "cell_type": "markdown",
   "metadata": {},
   "source": [
    "### Asset Server Functions\n",
    "\n",
    "The asset server tracks hardware/software assets, warranties, licenses, and asset history.\n",
    "Watch how errors provide context about what data is available."
   ]
  },
  {
   "cell_type": "code",
   "execution_count": null,
   "metadata": {},
   "outputs": [],
   "source": [
    "# Import asset server functions\n",
    "# For Google Colab: files are uploaded to root directory (no 'servers' folder)\n",
    "from asset_server import lookup_asset, check_warranty\n",
    "\n",
    "# Example 1: Look up an existing asset (SUCCESS)\n",
    "print(\"=\" * 60)\n",
    "print(\"Example 1: Looking up asset AST-SRV-001\")\n",
    "print(\"=\" * 60)\n",
    "asset = lookup_asset(asset_id=\"AST-SRV-001\")\n",
    "print(f\"Asset: {asset['hostname']}\")\n",
    "print(f\"Type: {asset['asset_type']}\")\n",
    "print(f\"Manufacturer: {asset['manufacturer']} {asset['model']}\")\n",
    "print(f\"Location: {asset['location']}\")\n",
    "\n",
    "# Example 2: Try to look up non-existent asset (ERROR WITH HINTS)\n",
    "print(\"\\n\" + \"=\" * 60)\n",
    "print(\"Example 2: Attempting to look up non-existent asset AST-999\")\n",
    "print(\"=\" * 60)\n",
    "error_response = lookup_asset(asset_id=\"AST-999\")\n",
    "print(\"This asset doesn't exist. Here's the error response:\\n\")\n",
    "import json\n",
    "print(json.dumps(error_response, indent=2))\n",
    "print(\"\\n💡 Error provides context and suggests alternative approaches!\")"
   ]
  },
  {
   "cell_type": "code",
   "execution_count": null,
   "metadata": {},
   "outputs": [],
   "source": [
    "# Example 3: Check warranty for existing asset (SUCCESS)\n",
    "print(\"\\n\" + \"=\" * 60)\n",
    "print(\"Example 3: Checking warranty for asset AST-SRV-001\")\n",
    "print(\"=\" * 60)\n",
    "warranty = check_warranty(\"AST-SRV-001\")\n",
    "w = warranty['warranty']\n",
    "print(f\"Warranty for {warranty['hostname']}:\")\n",
    "print(f\"  Coverage: {w['coverage_type']}\")\n",
    "print(f\"  Status: {w['status']}\")\n",
    "print(f\"  End Date: {w['end_date']}\")\n",
    "print(f\"  Days Remaining: {w['remaining_days']}\")\n",
    "print(f\"  Expired: {w['is_expired']}\")"
   ]
  },
  {
   "cell_type": "markdown",
   "metadata": {},
   "source": [
    "## Summary\n",
    "\n",
    "This notebook demonstrated **Direct Function Calls** and **LLM-Friendly Error Handling**:\n",
    "\n",
    "### What We Learned:\n",
    "\n",
    "✅ **Successful Queries**\n",
    "- All server functions can be imported and used as regular Python functions\n",
    "- Perfect for testing, debugging, and simple data access in notebooks\n",
    "- No async/await required\n",
    "- No MCP infrastructure needed\n",
    "\n",
    "✅ **Error Responses with Hints**\n",
    "- When data doesn't exist, functions return structured error objects\n",
    "- Errors include `suggested_actions` that guide the LLM toward recovery\n",
    "- `follow_up_tools` recommend alternative tools to try\n",
    "- `retryable` flag indicates if the query can be retried with different parameters\n",
    "- These hints help gpt-5-nano make intelligent decisions when queries fail\n",
    "\n",
    "### Key Takeaways:\n",
    "\n",
    "1. **Error responses are designed for LLMs** - They provide actionable guidance, not just error messages\n",
    "2. **Recovery strategies are built-in** - The LLM knows which tool to call next\n",
    "3. **Context is preserved** - Error responses include the original query context\n",
    "4. **Works perfectly in Jupyter/Colab** - No process management issues\n",
    "\n",
    "### Using with OpenAI gpt-5-nano:\n",
    "\n",
    "**Note:** The full MCP orchestrator with OpenAI integration does NOT work in Jupyter/Colab because Jupyter doesn't support stdin/stdout file descriptors for subprocesses (you'll get a `fileno` error).\n",
    "\n",
    "To use natural language queries with OpenAI gpt-5-nano, run the orchestrator from regular Python:\n",
    "```bash\n",
    "python interactive_client.py\n",
    "```\n",
    "\n",
    "When you use `interactive_client.py`, gpt-5-nano receives these same error responses and uses the hints to:\n",
    "- Try alternative search queries\n",
    "- Call different tools\n",
    "- Combine information from multiple sources\n",
    "- Provide helpful feedback to users\n",
    "\n",
    "See `interactive_client.py` and `test_intents.py` for examples of the full MCP orchestrator with OpenAI integration."
   ]
  }
 ],
 "metadata": {
  "kernelspec": {
   "display_name": "Python 3",
   "language": "python",
   "name": "python3"
  },
  "language_info": {
   "codemirror_mode": {
    "name": "ipython",
    "version": 3
   },
   "file_extension": ".py",
   "mimetype": "text/x-python",
   "name": "python",
   "nbconvert_exporter": "python",
   "pygments_lexer": "ipython3",
   "version": "3.9.0"
  }
 },
 "nbformat": 4,
 "nbformat_minor": 4
}
