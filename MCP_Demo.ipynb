{
 "cells": [
  {
   "cell_type": "markdown",
   "metadata": {},
   "source": [
    "# MCP Tutorial - Jupyter Notebook Demo\n",
    "\n",
    "This notebook demonstrates how to use the MCP servers with **direct function calls** in Jupyter/Colab.\n",
    "\n",
    "⚠️ **Note:** The MCP orchestrator with subprocesses does NOT work in Jupyter/Colab. For OpenAI gpt-5-nano integration, use `interactive_client.py` in regular Python.\n",
    "\n",
    "## Setup\n",
    "\n",
    "First, make sure you've installed the requirements:"
   ]
  },
  {
   "cell_type": "code",
   "execution_count": null,
   "metadata": {},
   "outputs": [],
   "source": [
    "# Install requirements (only need to run once)\n",
    "!pip install -q -r requirements.txt"
   ]
  },
  {
   "cell_type": "markdown",
   "metadata": {},
   "source": [
    "## Direct Function Calls\n",
    "\n",
    "All server functions can be imported and called directly as regular Python functions.\n",
    "This is the recommended way to use MCP servers in Jupyter/Colab notebooks."
   ]
  },
  {
   "cell_type": "markdown",
   "metadata": {},
   "source": [
    "### Ticket Server Functions"
   ]
  },
  {
   "cell_type": "code",
   "execution_count": null,
   "metadata": {},
   "outputs": [],
   "source": [
    "# Import ticket server functions\n",
    "from servers.ticket_server import search_tickets, get_ticket_details, get_ticket_metrics, find_similar_tickets_to, TICKETS\n",
    "\n",
    "# Search for critical priority tickets\n",
    "critical_tickets = search_tickets(priority=\"critical\")\n",
    "print(f\"Found {critical_tickets['total_count']} critical tickets:\\n\")\n",
    "for ticket in critical_tickets['tickets']:\n",
    "    print(f\"  {ticket['ticket_id']}: {ticket['subject']}\")"
   ]
  },
  {
   "cell_type": "code",
   "execution_count": null,
   "metadata": {},
   "outputs": [],
   "source": [
    "# Get details of a specific ticket\n",
    "ticket = get_ticket_details(\"TKT-1001\")\n",
    "print(f\"Ticket: {ticket['ticket_id']}\")\n",
    "print(f\"Subject: {ticket['subject']}\")\n",
    "print(f\"Status: {ticket['status']}\")\n",
    "print(f\"Priority: {ticket['priority']}\")\n",
    "print(f\"Description: {ticket['description']}\")"
   ]
  },
  {
   "cell_type": "code",
   "execution_count": null,
   "metadata": {},
   "outputs": [],
   "source": [
    "# Get ticket metrics for last 7 days\n",
    "metrics = get_ticket_metrics(\"last_7_days\")\n",
    "print(f\"Ticket Metrics (Last 7 Days):\")\n",
    "print(f\"  Total: {metrics['total_tickets']}\")\n",
    "print(f\"  Open: {metrics['open_tickets']}\")\n",
    "print(f\"  In Progress: {metrics['in_progress_tickets']}\")\n",
    "print(f\"  Resolved: {metrics['resolved_tickets']}\")\n",
    "print(f\"  Avg Resolution Time: {metrics['avg_resolution_time_hours']} hours\")"
   ]
  },
  {
   "cell_type": "markdown",
   "metadata": {},
   "source": [
    "### Customer Server Functions"
   ]
  },
  {
   "cell_type": "code",
   "execution_count": null,
   "metadata": {},
   "outputs": [],
   "source": [
    "from servers.customer_server import lookup_customer, check_customer_status, get_sla_terms, list_customer_contacts\n",
    "\n",
    "# Look up a customer\n",
    "customer = lookup_customer(customer_id=\"CUST-001\")\n",
    "print(f\"Customer: {customer['company_name']}\")\n",
    "print(f\"Tier: {customer['tier']}\")\n",
    "print(f\"Status: {customer['status']}\")\n",
    "print(f\"Account Manager: {customer['account_manager']}\")"
   ]
  },
  {
   "cell_type": "code",
   "execution_count": null,
   "metadata": {},
   "outputs": [],
   "source": [
    "# Get SLA terms\n",
    "sla = get_sla_terms(\"CUST-001\")\n",
    "print(f\"SLA for {sla['company_name']}:\")\n",
    "print(f\"  Level: {sla['sla_terms']['level']}\")\n",
    "print(f\"  Response Time: {sla['sla_terms']['response_time_hours']} hours\")\n",
    "print(f\"  Resolution Time: {sla['sla_terms']['resolution_time_hours']} hours\")\n",
    "print(f\"  Support Hours: {sla['sla_terms']['support_hours']}\")"
   ]
  },
  {
   "cell_type": "markdown",
   "metadata": {},
   "source": [
    "### Billing Server Functions"
   ]
  },
  {
   "cell_type": "code",
   "execution_count": null,
   "metadata": {},
   "outputs": [],
   "source": [
    "from servers.billing_server import get_invoice, check_payment_status, calculate_outstanding_balance\n",
    "\n",
    "# Get all invoices for a customer\n",
    "invoices = get_invoice(customer_id=\"CUST-001\")\n",
    "print(f\"Total invoices for customer: {invoices['total_invoices']}\\n\")\n",
    "for inv in invoices['invoices'][:3]:  # Show first 3\n",
    "    print(f\"  {inv['invoice_id']}: ${inv['amount']} - {inv['status']}\")"
   ]
  },
  {
   "cell_type": "code",
   "execution_count": null,
   "metadata": {},
   "outputs": [],
   "source": [
    "# Calculate outstanding balance\n",
    "balance = calculate_outstanding_balance(\"CUST-002\")\n",
    "print(f\"Outstanding Balance for Customer:\")\n",
    "print(f\"  Total: ${balance['outstanding_balance']}\")\n",
    "print(f\"  Overdue: ${balance['overdue_amount']}\")\n",
    "print(f\"  Unpaid Invoices: {balance['number_of_unpaid_invoices']}\")"
   ]
  },
  {
   "cell_type": "markdown",
   "metadata": {},
   "source": [
    "### Knowledge Base Server Functions"
   ]
  },
  {
   "cell_type": "code",
   "execution_count": null,
   "metadata": {},
   "outputs": [],
   "source": [
    "from servers.kb_server import search_solutions, get_article\n",
    "\n",
    "# Search for BSOD articles\n",
    "results = search_solutions(\"BSOD\", limit=3)\n",
    "print(f\"Found {results['total_count']} articles about BSOD:\\n\")\n",
    "for article in results['results']:\n",
    "    print(f\"  {article['article_id']}: {article['title']}\")\n",
    "    print(f\"    Relevance: {article['relevance_score']}, Views: {article['views']}\")"
   ]
  },
  {
   "cell_type": "code",
   "execution_count": null,
   "metadata": {},
   "outputs": [],
   "source": [
    "# Get full article content\n",
    "article = get_article(\"KB-001\")\n",
    "print(f\"Article: {article['title']}\")\n",
    "print(f\"Category: {article['category']}\")\n",
    "print(f\"\\nContent Preview:\")\n",
    "print(article['content'][:500] + \"...\")"
   ]
  },
  {
   "cell_type": "markdown",
   "metadata": {},
   "source": [
    "### Asset Server Functions"
   ]
  },
  {
   "cell_type": "code",
   "execution_count": null,
   "metadata": {},
   "outputs": [],
   "source": [
    "from servers.asset_server import lookup_asset, check_warranty\n",
    "\n",
    "# Look up an asset\n",
    "asset = lookup_asset(asset_id=\"AST-SRV-001\")\n",
    "print(f\"Asset: {asset['hostname']}\")\n",
    "print(f\"Type: {asset['asset_type']}\")\n",
    "print(f\"Manufacturer: {asset['manufacturer']} {asset['model']}\")\n",
    "print(f\"Location: {asset['location']}\")"
   ]
  },
  {
   "cell_type": "code",
   "execution_count": null,
   "metadata": {},
   "outputs": [],
   "source": [
    "# Check warranty status\n",
    "warranty = check_warranty(\"AST-SRV-001\")\n",
    "w = warranty['warranty']\n",
    "print(f\"Warranty for {warranty['hostname']}:\")\n",
    "print(f\"  Coverage: {w['coverage_type']}\")\n",
    "print(f\"  Status: {w['status']}\")\n",
    "print(f\"  End Date: {w['end_date']}\")\n",
    "print(f\"  Days Remaining: {w['remaining_days']}\")\n",
    "print(f\"  Expired: {w['is_expired']}\")"
   ]
  },
  {
   "cell_type": "markdown",
   "metadata": {},
   "source": [
    "## Summary\n",
    "\n",
    "This notebook demonstrated **Direct Function Calls** for using the MCP servers in Jupyter/Colab:\n",
    "\n",
    "- ✅ All server functions can be imported and used as regular Python functions\n",
    "- ✅ Perfect for testing, debugging, and simple data access in notebooks\n",
    "- ✅ No async/await required\n",
    "- ✅ No MCP infrastructure needed\n",
    "- ✅ Works perfectly in Jupyter/Colab\n",
    "\n",
    "**Note about MCP Orchestrator with OpenAI gpt-5-nano:**\n",
    "\n",
    "The full MCP orchestrator with OpenAI integration does NOT work in Jupyter/Colab because Jupyter doesn't support stdin/stdout file descriptors for subprocesses (you'll get a `fileno` error).\n",
    "\n",
    "To use natural language queries with OpenAI gpt-5-nano, run the orchestrator from regular Python:\n",
    "```bash\n",
    "python interactive_client.py\n",
    "```\n",
    "\n",
    "See `interactive_client.py` for an example of the full MCP orchestrator with OpenAI integration."
   ]
  },
  {
   "cell_type": "code",
   "execution_count": null,
   "metadata": {},
   "outputs": [],
   "source": [
    "# Query 5: Asset management\n",
    "response = orchestrator.query(\n",
    "    \"Which assets have warranties expiring in the next 30 days?\",\n",
    "    api_key\n",
    ")\n",
    "print(response)"
   ]
  }
 ],
 "metadata": {
  "kernelspec": {
   "display_name": "Python 3",
   "language": "python",
   "name": "python3"
  },
  "language_info": {
   "codemirror_mode": {
    "name": "ipython",
    "version": 3
   },
   "file_extension": ".py",
   "mimetype": "text/x-python",
   "name": "python",
   "nbconvert_exporter": "python",
   "pygments_lexer": "ipython3",
   "version": "3.9.0"
  }
 },
 "nbformat": 4,
 "nbformat_minor": 4
}
